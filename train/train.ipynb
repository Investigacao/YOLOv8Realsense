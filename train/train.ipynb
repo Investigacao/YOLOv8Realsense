{
 "cells": [
  {
   "cell_type": "code",
   "execution_count": 1,
   "metadata": {},
   "outputs": [],
   "source": [
    "import ultralytics\n",
    "# import comet_ml\n",
    "import wandb\n",
    "# from comet_ml import Experiment\n",
    "# from comet_ml.integration.pytorch import log_model\n",
    "import torch\n",
    "# ultralytics.checks()"
   ]
  },
  {
   "cell_type": "markdown",
   "metadata": {},
   "source": [
    "# Download Dataset"
   ]
  },
  {
   "cell_type": "markdown",
   "metadata": {},
   "source": [
    "### Arvore"
   ]
  },
  {
   "cell_type": "code",
   "execution_count": 2,
   "metadata": {},
   "outputs": [
    {
     "name": "stdout",
     "output_type": "stream",
     "text": [
      "Requirement already satisfied: roboflow in /home/pedrobolsa/.local/lib/python3.11/site-packages (1.0.8)\n",
      "Requirement already satisfied: certifi==2022.12.7 in /home/pedrobolsa/.local/lib/python3.11/site-packages (from roboflow) (2022.12.7)\n",
      "Requirement already satisfied: chardet==4.0.0 in /home/pedrobolsa/.local/lib/python3.11/site-packages (from roboflow) (4.0.0)\n",
      "Requirement already satisfied: cycler==0.10.0 in /home/pedrobolsa/.local/lib/python3.11/site-packages (from roboflow) (0.10.0)\n",
      "Requirement already satisfied: idna==2.10 in /home/pedrobolsa/.local/lib/python3.11/site-packages (from roboflow) (2.10)\n",
      "Requirement already satisfied: kiwisolver>=1.3.1 in /home/pedrobolsa/.local/lib/python3.11/site-packages (from roboflow) (1.4.4)\n",
      "Requirement already satisfied: matplotlib in /home/pedrobolsa/.local/lib/python3.11/site-packages (from roboflow) (3.7.1)\n",
      "Requirement already satisfied: numpy>=1.18.5 in /home/pedrobolsa/.local/lib/python3.11/site-packages (from roboflow) (1.23.5)\n",
      "Requirement already satisfied: opencv-python>=4.1.2 in /home/pedrobolsa/.local/lib/python3.11/site-packages (from roboflow) (4.7.0.72)\n",
      "Requirement already satisfied: Pillow>=7.1.2 in /home/pedrobolsa/anaconda3/envs/yolov8/lib/python3.11/site-packages (from roboflow) (9.4.0)\n",
      "Requirement already satisfied: pyparsing==2.4.7 in /home/pedrobolsa/.local/lib/python3.11/site-packages (from roboflow) (2.4.7)\n",
      "Requirement already satisfied: python-dateutil in /home/pedrobolsa/anaconda3/envs/yolov8/lib/python3.11/site-packages (from roboflow) (2.8.2)\n",
      "Requirement already satisfied: python-dotenv in /home/pedrobolsa/.local/lib/python3.11/site-packages (from roboflow) (1.0.0)\n",
      "Requirement already satisfied: requests in /home/pedrobolsa/anaconda3/envs/yolov8/lib/python3.11/site-packages (from roboflow) (2.31.0)\n",
      "Requirement already satisfied: six in /home/pedrobolsa/anaconda3/envs/yolov8/lib/python3.11/site-packages (from roboflow) (1.16.0)\n",
      "Requirement already satisfied: urllib3>=1.26.6 in /home/pedrobolsa/anaconda3/envs/yolov8/lib/python3.11/site-packages (from roboflow) (2.0.3)\n",
      "Requirement already satisfied: wget in /home/pedrobolsa/.local/lib/python3.11/site-packages (from roboflow) (3.2)\n",
      "Requirement already satisfied: tqdm>=4.41.0 in /home/pedrobolsa/anaconda3/envs/yolov8/lib/python3.11/site-packages (from roboflow) (4.65.0)\n",
      "Requirement already satisfied: PyYAML>=5.3.1 in /home/pedrobolsa/anaconda3/envs/yolov8/lib/python3.11/site-packages (from roboflow) (6.0)\n",
      "Requirement already satisfied: requests-toolbelt in /home/pedrobolsa/.local/lib/python3.11/site-packages (from roboflow) (1.0.0)\n",
      "Requirement already satisfied: contourpy>=1.0.1 in /home/pedrobolsa/.local/lib/python3.11/site-packages (from matplotlib->roboflow) (1.0.7)\n",
      "Requirement already satisfied: fonttools>=4.22.0 in /home/pedrobolsa/.local/lib/python3.11/site-packages (from matplotlib->roboflow) (4.39.4)\n",
      "Requirement already satisfied: packaging>=20.0 in /home/pedrobolsa/anaconda3/envs/yolov8/lib/python3.11/site-packages (from matplotlib->roboflow) (23.1)\n",
      "Requirement already satisfied: charset-normalizer<4,>=2 in /home/pedrobolsa/.local/lib/python3.11/site-packages (from requests->roboflow) (2.1.1)\n",
      "Note: you may need to restart the kernel to use updated packages.\n",
      "loading Roboflow workspace...\n",
      "loading Roboflow project...\n",
      "Dependency ultralytics<=8.0.20 is required but found version=8.0.124, to fix: `pip install ultralytics<=8.0.20`\n",
      "Downloading Dataset Version Zip in arvore-ciic2-1 to yolov8: 100% [49808973 / 49808973] bytes\n"
     ]
    },
    {
     "name": "stderr",
     "output_type": "stream",
     "text": [
      "Extracting Dataset Version Zip to arvore-ciic2-1 in yolov8:: 100%|██████████| 558/558 [00:00<00:00, 6515.76it/s]\n"
     ]
    }
   ],
   "source": [
    "# %pip install roboflow\n",
    "\n",
    "# from roboflow import Roboflow\n",
    "# rf = Roboflow(api_key=\"doBBYlzG33qtbUGXHsWU\")\n",
    "# project = rf.workspace(\"testeyolo-0ajnk\").project(\"arvore-ciic2\")\n",
    "# dataset = project.version(1).download(\"yolov8\")\n"
   ]
  },
  {
   "cell_type": "markdown",
   "metadata": {},
   "source": [
    "### Tomates"
   ]
  },
  {
   "cell_type": "code",
   "execution_count": 2,
   "metadata": {},
   "outputs": [
    {
     "name": "stdout",
     "output_type": "stream",
     "text": [
      "loading Roboflow workspace...\n",
      "loading Roboflow project...\n"
     ]
    },
    {
     "ename": "RuntimeError",
     "evalue": "{\n    \"error\": {\n        \"message\": \"Unsupported get request. Dataset with ID `tomatoes-presentation` does not exist or cannot be loaded due to missing permissions.\",\n        \"type\": \"GraphMethodException\",\n        \"hint\": \"You can find the API docs at https://docs.roboflow.com\"\n    }\n}",
     "output_type": "error",
     "traceback": [
      "\u001b[0;31m---------------------------------------------------------------------------\u001b[0m",
      "\u001b[0;31mRuntimeError\u001b[0m                              Traceback (most recent call last)",
      "\u001b[1;32m/home/pedrobolsa/Documents/Escola/Investigacao/YoloV8/train/train.ipynb Cell 6\u001b[0m line \u001b[0;36m5\n\u001b[1;32m      <a href='vscode-notebook-cell:/home/pedrobolsa/Documents/Escola/Investigacao/YoloV8/train/train.ipynb#W5sZmlsZQ%3D%3D?line=2'>3</a>\u001b[0m \u001b[39mfrom\u001b[39;00m \u001b[39mroboflow\u001b[39;00m \u001b[39mimport\u001b[39;00m Roboflow\n\u001b[1;32m      <a href='vscode-notebook-cell:/home/pedrobolsa/Documents/Escola/Investigacao/YoloV8/train/train.ipynb#W5sZmlsZQ%3D%3D?line=3'>4</a>\u001b[0m rf \u001b[39m=\u001b[39m Roboflow(api_key\u001b[39m=\u001b[39m\u001b[39m\"\u001b[39m\u001b[39mdoBBYlzG33qtbUGXHsWU\u001b[39m\u001b[39m\"\u001b[39m)\n\u001b[0;32m----> <a href='vscode-notebook-cell:/home/pedrobolsa/Documents/Escola/Investigacao/YoloV8/train/train.ipynb#W5sZmlsZQ%3D%3D?line=4'>5</a>\u001b[0m project \u001b[39m=\u001b[39m rf\u001b[39m.\u001b[39;49mworkspace(\u001b[39m\"\u001b[39;49m\u001b[39mtesteyolo-0ajnk\u001b[39;49m\u001b[39m\"\u001b[39;49m)\u001b[39m.\u001b[39;49mproject(\u001b[39m\"\u001b[39;49m\u001b[39mtomatoes-presentation\u001b[39;49m\u001b[39m\"\u001b[39;49m)\n\u001b[1;32m      <a href='vscode-notebook-cell:/home/pedrobolsa/Documents/Escola/Investigacao/YoloV8/train/train.ipynb#W5sZmlsZQ%3D%3D?line=5'>6</a>\u001b[0m dataset \u001b[39m=\u001b[39m project\u001b[39m.\u001b[39mversion(\u001b[39m2\u001b[39m)\u001b[39m.\u001b[39mdownload(\u001b[39m\"\u001b[39m\u001b[39myolov8\u001b[39m\u001b[39m\"\u001b[39m)\n",
      "File \u001b[0;32m~/.local/lib/python3.11/site-packages/roboflow/core/workspace.py:76\u001b[0m, in \u001b[0;36mWorkspace.project\u001b[0;34m(self, project_name)\u001b[0m\n\u001b[1;32m     74\u001b[0m \u001b[39m# Throw error if dataset isn't valid/user doesn't have permissions to access the dataset\u001b[39;00m\n\u001b[1;32m     75\u001b[0m \u001b[39mif\u001b[39;00m dataset_info\u001b[39m.\u001b[39mstatus_code \u001b[39m!=\u001b[39m \u001b[39m200\u001b[39m:\n\u001b[0;32m---> 76\u001b[0m     \u001b[39mraise\u001b[39;00m \u001b[39mRuntimeError\u001b[39;00m(dataset_info\u001b[39m.\u001b[39mtext)\n\u001b[1;32m     78\u001b[0m dataset_info \u001b[39m=\u001b[39m dataset_info\u001b[39m.\u001b[39mjson()[\u001b[39m\"\u001b[39m\u001b[39mproject\u001b[39m\u001b[39m\"\u001b[39m]\n\u001b[1;32m     80\u001b[0m \u001b[39mreturn\u001b[39;00m Project(\u001b[39mself\u001b[39m\u001b[39m.\u001b[39m__api_key, dataset_info, \u001b[39mself\u001b[39m\u001b[39m.\u001b[39mmodel_format)\n",
      "\u001b[0;31mRuntimeError\u001b[0m: {\n    \"error\": {\n        \"message\": \"Unsupported get request. Dataset with ID `tomatoes-presentation` does not exist or cannot be loaded due to missing permissions.\",\n        \"type\": \"GraphMethodException\",\n        \"hint\": \"You can find the API docs at https://docs.roboflow.com\"\n    }\n}"
     ]
    }
   ],
   "source": [
    "# %pip install roboflow\n",
    "\n",
    "from roboflow import Roboflow\n",
    "rf = Roboflow(api_key=\"doBBYlzG33qtbUGXHsWU\")\n",
    "project = rf.workspace(\"testeyolo-0ajnk\").project(\"tomatoes-presentation\")\n",
    "dataset = project.version(2).download(\"yolov8\")\n"
   ]
  },
  {
   "cell_type": "markdown",
   "metadata": {},
   "source": [
    "# Import Pre-Trained Model"
   ]
  },
  {
   "cell_type": "code",
   "execution_count": 3,
   "metadata": {},
   "outputs": [],
   "source": [
    "from ultralytics import YOLO\n",
    "model = YOLO('yolov8m-seg.pt')  # load a pretrained model (recommended for training)"
   ]
  },
  {
   "cell_type": "markdown",
   "metadata": {},
   "source": [
    "# Check Live Logs"
   ]
  },
  {
   "cell_type": "code",
   "execution_count": 9,
   "metadata": {},
   "outputs": [
    {
     "name": "stdout",
     "output_type": "stream",
     "text": [
      "env: CLEARML_WEB_HOST=https://app.clear.ml\n",
      "env: CLEARML_API_HOST=https://api.clear.ml\n",
      "env: CLEARML_FILES_HOST=https://files.clear.ml\n",
      "env: CLEARML_API_ACCESS_KEY=5S8WE4Z0DLCQJ2JBA88B\n",
      "env: CLEARML_API_SECRET_KEY=K6kWg6vyJPNwrlYAGUbp8uYmZe6sroinWbVWuPU5hNWA5dfiAH\n"
     ]
    }
   ],
   "source": [
    "# %env CLEARML_WEB_HOST=https://app.clear.ml\n",
    "# %env CLEARML_API_HOST=https://api.clear.ml\n",
    "# %env CLEARML_FILES_HOST=https://files.clear.ml\n",
    "# %env CLEARML_API_ACCESS_KEY=5S8WE4Z0DLCQJ2JBA88B\n",
    "# %env CLEARML_API_SECRET_KEY=K6kWg6vyJPNwrlYAGUbp8uYmZe6sroinWbVWuPU5hNWA5dfiAH"
   ]
  },
  {
   "cell_type": "code",
   "execution_count": 10,
   "metadata": {},
   "outputs": [
    {
     "name": "stderr",
     "output_type": "stream",
     "text": [
      "\u001b[1;38;5;214mCOMET WARNING:\u001b[0m To get all data logged automatically, import comet_ml before the following modules: torch.\n",
      "\u001b[1;38;5;39mCOMET INFO:\u001b[0m ---------------------------------------------------------------------------------------\n",
      "\u001b[1;38;5;39mCOMET INFO:\u001b[0m Comet.ml Experiment Summary\n",
      "\u001b[1;38;5;39mCOMET INFO:\u001b[0m ---------------------------------------------------------------------------------------\n",
      "\u001b[1;38;5;39mCOMET INFO:\u001b[0m   Data:\n",
      "\u001b[1;38;5;39mCOMET INFO:\u001b[0m     display_summary_level : 1\n",
      "\u001b[1;38;5;39mCOMET INFO:\u001b[0m     url                   : https://www.comet.com/pfcouto/general/cfa17a1f27a3426a8dd530f65ff3ad45\n",
      "\u001b[1;38;5;39mCOMET INFO:\u001b[0m   Uploads:\n",
      "\u001b[1;38;5;39mCOMET INFO:\u001b[0m     conda-environment-definition : 1\n",
      "\u001b[1;38;5;39mCOMET INFO:\u001b[0m     conda-info                   : 1\n",
      "\u001b[1;38;5;39mCOMET INFO:\u001b[0m     conda-specification          : 1\n",
      "\u001b[1;38;5;39mCOMET INFO:\u001b[0m     environment details          : 1\n",
      "\u001b[1;38;5;39mCOMET INFO:\u001b[0m     filename                     : 1\n",
      "\u001b[1;38;5;39mCOMET INFO:\u001b[0m     installed packages           : 1\n",
      "\u001b[1;38;5;39mCOMET INFO:\u001b[0m     notebook                     : 1\n",
      "\u001b[1;38;5;39mCOMET INFO:\u001b[0m     os packages                  : 1\n",
      "\u001b[1;38;5;39mCOMET INFO:\u001b[0m     source_code                  : 1\n",
      "\u001b[1;38;5;39mCOMET INFO:\u001b[0m \n",
      "\u001b[1;38;5;214mCOMET WARNING:\u001b[0m To get all data logged automatically, import comet_ml before the following modules: torch.\n",
      "\u001b[1;38;5;214mCOMET WARNING:\u001b[0m As you are running in a Jupyter environment, you will need to call `experiment.end()` when finished to ensure all metrics and code are logged before exiting.\n",
      "\u001b[1;38;5;39mCOMET INFO:\u001b[0m Couldn't find a Git repository in '/home/pedrobolsa/Documents/Escola/Investigacao/YoloV8/train' nor in any parent directory. Set `COMET_GIT_DIRECTORY` if your Git Repository is elsewhere.\n",
      "\u001b[1;38;5;39mCOMET INFO:\u001b[0m Experiment is live on comet.com https://www.comet.com/pfcouto/general/fd0094fd247247eb903f60ee59521d69\n",
      "\n"
     ]
    }
   ],
   "source": [
    "# experiment = Experiment(\n",
    "#   api_key = \"ze7OS9BmJhZ3stUocvShuiy9d\",\n",
    "#   project_name = \"general\",\n",
    "#   workspace=\"pfcouto\"\n",
    "# )"
   ]
  },
  {
   "cell_type": "markdown",
   "metadata": {},
   "source": [
    "# Start Training"
   ]
  },
  {
   "cell_type": "code",
   "execution_count": 6,
   "metadata": {},
   "outputs": [
    {
     "data": {
      "text/html": [
       "Finishing last run (ID:4blaitsl) before initializing another..."
      ],
      "text/plain": [
       "<IPython.core.display.HTML object>"
      ]
     },
     "metadata": {},
     "output_type": "display_data"
    },
    {
     "data": {
      "text/html": [
       "Waiting for W&B process to finish... <strong style=\"color:green\">(success).</strong>"
      ],
      "text/plain": [
       "<IPython.core.display.HTML object>"
      ]
     },
     "metadata": {},
     "output_type": "display_data"
    },
    {
     "name": "stderr",
     "output_type": "stream",
     "text": [
      "wandb: WARNING Source type is set to 'repo' but some required information is missing from the environment. A job will not be created from this run. See https://docs.wandb.ai/guides/launch/create-job\n"
     ]
    },
    {
     "data": {
      "application/vnd.jupyter.widget-view+json": {
       "model_id": "0fe3dd0cc3814ac9a2c3f2c0b26c4b71",
       "version_major": 2,
       "version_minor": 0
      },
      "text/plain": [
       "VBox(children=(Label(value='55.335 MB of 55.335 MB uploaded (0.000 MB deduped)\\r'), FloatProgress(value=1.0, m…"
      ]
     },
     "metadata": {},
     "output_type": "display_data"
    },
    {
     "data": {
      "text/html": [
       "<style>\n",
       "    table.wandb td:nth-child(1) { padding: 0 10px; text-align: left ; width: auto;} td:nth-child(2) {text-align: left ; width: 100%}\n",
       "    .wandb-row { display: flex; flex-direction: row; flex-wrap: wrap; justify-content: flex-start; width: 100% }\n",
       "    .wandb-col { display: flex; flex-direction: column; flex-basis: 100%; flex: 1; padding: 10px; }\n",
       "    </style>\n",
       "<div class=\"wandb-row\"><div class=\"wandb-col\"><h3>Run history:</h3><br/><table class=\"wandb\"><tr><td>lr/pg0</td><td>▁█████████████▇▇▇▇▇▇▇▇▇▇▇▇▇▇▇▇▇▇▇▇▇▇▇▆▆▆</td></tr><tr><td>lr/pg1</td><td>▁█████████████▇▇▇▇▇▇▇▇▇▇▇▇▇▇▇▇▇▇▇▇▇▇▇▆▆▆</td></tr><tr><td>lr/pg2</td><td>▁█████████████▇▇▇▇▇▇▇▇▇▇▇▇▇▇▇▇▇▇▇▇▇▇▇▆▆▆</td></tr><tr><td>metrics/mAP50(B)</td><td>▂▅▆▅█▆▆▇▁▂▃▄▅▃▄▅▆▅▆▆▆▄▄▆▅▃▄▆▄▅▅▇▄▅▃▅▆▅▅█</td></tr><tr><td>metrics/mAP50(M)</td><td>▂▅▆▄█▆▆▆▁▂▃▄▄▃▄▄▆▅▆▆▅▄▃▆▅▃▄▅▄▅▅▇▃▅▃▅▆▅▅█</td></tr><tr><td>metrics/mAP50-95(B)</td><td>▁▄▅▄▇▅▇▇▁▃▃▅▄▃▅▅▆▆▆▆▆▅▅▆▅▄▄▆▅▆▆█▅▆▄▆▇▆▆█</td></tr><tr><td>metrics/mAP50-95(M)</td><td>▂▄▆▄▇▆▇▆▁▃▃▅▅▃▅▅▇▅▇▆▆▅▅▇▅▄▄▆▅▆▆▇▅▆▅▆▇▆▇█</td></tr><tr><td>metrics/precision(B)</td><td>▁▂▄▄█▆█▄▁▃▂▅▄▄▄█▆▅▄▄▅▄▄▆▆▃▅▆▄▅▄▆▄▆▄▅▅▅▆▇</td></tr><tr><td>metrics/precision(M)</td><td>▂▃▅▄█▇█▅▂▃▃▆▁▅▅█▆▆▄▃▅▄▅▆▆▃▆▇▄▆▄▇▄▆▄▆▅▅▆▇</td></tr><tr><td>metrics/recall(B)</td><td>▄▆▅▆▅▅▂█▆▃▅▄▂▅▅▁▅▅▇▆▅▅▁▅▅▆▂▄▅▄█▅▆▃▄▅▅▄▃▅</td></tr><tr><td>metrics/recall(M)</td><td>▃▅▅▅▄▄▂▆▅▂▄▃▇▄▄▁▄▄▅█▄▄▁▄▄▅▂▄▄▄▆▄▄▃▃▄▄▄▃▅</td></tr><tr><td>model/GFLOPs</td><td>▁</td></tr><tr><td>model/parameters</td><td>▁</td></tr><tr><td>model/speed_PyTorch(ms)</td><td>▁</td></tr><tr><td>train/box_loss</td><td>██▇▆▆▅▅▅▄▄▄▄▄▃▃▃▃▃▃▃▃▂▂▂▂▂▂▂▂▂▁▂▂▁▁▁▁▁▁▁</td></tr><tr><td>train/cls_loss</td><td>█▅▅▄▄▃▃▃▃▃▃▂▂▂▂▂▂▂▂▂▂▂▂▂▁▂▁▁▁▁▁▁▁▁▁▁▁▁▁▁</td></tr><tr><td>train/dfl_loss</td><td>█▇▆▆▅▅▄▄▄▄▄▃▃▃▃▃▂▂▂▂▂▂▂▂▂▂▂▂▁▁▁▁▁▁▁▁▁▁▁▁</td></tr><tr><td>train/seg_loss</td><td>█▆▆▅▅▄▄▄▄▃▃▃▃▃▃▂▂▂▂▂▂▂▂▂▂▂▂▂▁▁▁▂▂▁▁▁▁▁▁▁</td></tr><tr><td>val/box_loss</td><td>▆█▆▅▄▄▃▃▄▃▃▃▃▃▂▃▃▃▂▂▂▃▂▂▂▂▃▂▂▂▁▂▂▂▂▁▁▁▁▂</td></tr><tr><td>val/cls_loss</td><td>▅▇█▃▂▂▂▂▂▂▁▁▁▁▁▁▁▁▁▁▁▂▁▁▁▁▁▁▁▁▁▁▁▁▁▁▁▁▁▁</td></tr><tr><td>val/dfl_loss</td><td>▃█▅▂▂▃▁▂▄▂▂▃▂▂▁▃▃▄▂▂▃▆▁▂▂▃▃▂▃▁▂▃▃▃▃▂▂▃▂▄</td></tr><tr><td>val/seg_loss</td><td>▆█▅▃▂▂▂▄▂▂▁▂▂▁▁▂▁▂▂▁▂▁▁▁▂▃▂▂▂▃▂▃▂▂▂▂▂▂▂▂</td></tr></table><br/></div><div class=\"wandb-col\"><h3>Run summary:</h3><br/><table class=\"wandb\"><tr><td>lr/pg0</td><td>0.00105</td></tr><tr><td>lr/pg1</td><td>0.00105</td></tr><tr><td>lr/pg2</td><td>0.00105</td></tr><tr><td>metrics/mAP50(B)</td><td>0.8374</td></tr><tr><td>metrics/mAP50(M)</td><td>0.83976</td></tr><tr><td>metrics/mAP50-95(B)</td><td>0.69374</td></tr><tr><td>metrics/mAP50-95(M)</td><td>0.61251</td></tr><tr><td>metrics/precision(B)</td><td>0.75227</td></tr><tr><td>metrics/precision(M)</td><td>0.75415</td></tr><tr><td>metrics/recall(B)</td><td>0.75617</td></tr><tr><td>metrics/recall(M)</td><td>0.75784</td></tr><tr><td>model/GFLOPs</td><td>110.401</td></tr><tr><td>model/parameters</td><td>27241964</td></tr><tr><td>model/speed_PyTorch(ms)</td><td>14.002</td></tr><tr><td>train/box_loss</td><td>0.55255</td></tr><tr><td>train/cls_loss</td><td>0.37548</td></tr><tr><td>train/dfl_loss</td><td>0.83878</td></tr><tr><td>train/seg_loss</td><td>0.79451</td></tr><tr><td>val/box_loss</td><td>0.75817</td></tr><tr><td>val/cls_loss</td><td>0.62753</td></tr><tr><td>val/dfl_loss</td><td>0.99227</td></tr><tr><td>val/seg_loss</td><td>1.37779</td></tr></table><br/></div></div>"
      ],
      "text/plain": [
       "<IPython.core.display.HTML object>"
      ]
     },
     "metadata": {},
     "output_type": "display_data"
    },
    {
     "data": {
      "text/html": [
       " View run <strong style=\"color:#cdcd00\">tomaotes-420-M</strong> at: <a href='https://wandb.ai/pfcouto/tomatoes-420/runs/4blaitsl' target=\"_blank\">https://wandb.ai/pfcouto/tomatoes-420/runs/4blaitsl</a><br/>Synced 6 W&B file(s), 5 media file(s), 1 artifact file(s) and 0 other file(s)"
      ],
      "text/plain": [
       "<IPython.core.display.HTML object>"
      ]
     },
     "metadata": {},
     "output_type": "display_data"
    },
    {
     "data": {
      "text/html": [
       "Find logs at: <code>./wandb/run-20231026_223955-4blaitsl/logs</code>"
      ],
      "text/plain": [
       "<IPython.core.display.HTML object>"
      ]
     },
     "metadata": {},
     "output_type": "display_data"
    },
    {
     "data": {
      "text/html": [
       "Successfully finished last run (ID:4blaitsl). Initializing new run:<br/>"
      ],
      "text/plain": [
       "<IPython.core.display.HTML object>"
      ]
     },
     "metadata": {},
     "output_type": "display_data"
    },
    {
     "data": {
      "application/vnd.jupyter.widget-view+json": {
       "model_id": "3ae63388a49442a68f16778c420878b5",
       "version_major": 2,
       "version_minor": 0
      },
      "text/plain": [
       "VBox(children=(Label(value='Waiting for wandb.init()...\\r'), FloatProgress(value=0.011112121722221167, max=1.0…"
      ]
     },
     "metadata": {},
     "output_type": "display_data"
    },
    {
     "data": {
      "text/html": [
       "wandb version 0.15.12 is available!  To upgrade, please run:\n",
       " $ pip install wandb --upgrade"
      ],
      "text/plain": [
       "<IPython.core.display.HTML object>"
      ]
     },
     "metadata": {},
     "output_type": "display_data"
    },
    {
     "data": {
      "text/html": [
       "Tracking run with wandb version 0.15.10"
      ],
      "text/plain": [
       "<IPython.core.display.HTML object>"
      ]
     },
     "metadata": {},
     "output_type": "display_data"
    },
    {
     "data": {
      "text/html": [
       "Run data is saved locally in <code>/home/pedrobolsa/Documents/Escola/Investigacao/YoloV8/train/wandb/run-20231026_235341-xu3lfc61</code>"
      ],
      "text/plain": [
       "<IPython.core.display.HTML object>"
      ]
     },
     "metadata": {},
     "output_type": "display_data"
    },
    {
     "data": {
      "text/html": [
       "Syncing run <strong><a href='https://wandb.ai/pfcouto/tomatoes-420/runs/xu3lfc61' target=\"_blank\">tomaotes-420-2</a></strong> to <a href='https://wandb.ai/pfcouto/tomatoes-420' target=\"_blank\">Weights & Biases</a> (<a href='https://wandb.me/run' target=\"_blank\">docs</a>)<br/>"
      ],
      "text/plain": [
       "<IPython.core.display.HTML object>"
      ]
     },
     "metadata": {},
     "output_type": "display_data"
    },
    {
     "data": {
      "text/html": [
       " View project at <a href='https://wandb.ai/pfcouto/tomatoes-420' target=\"_blank\">https://wandb.ai/pfcouto/tomatoes-420</a>"
      ],
      "text/plain": [
       "<IPython.core.display.HTML object>"
      ]
     },
     "metadata": {},
     "output_type": "display_data"
    },
    {
     "data": {
      "text/html": [
       " View run at <a href='https://wandb.ai/pfcouto/tomatoes-420/runs/xu3lfc61' target=\"_blank\">https://wandb.ai/pfcouto/tomatoes-420/runs/xu3lfc61</a>"
      ],
      "text/plain": [
       "<IPython.core.display.HTML object>"
      ]
     },
     "metadata": {},
     "output_type": "display_data"
    }
   ],
   "source": [
    "wandb.init(project=\"tomatoes-420\", entity=\"pfcouto\", name=\"tomaotes-420-2\")\n",
    "torch.cuda.empty_cache()"
   ]
  },
  {
   "cell_type": "code",
   "execution_count": 7,
   "metadata": {},
   "outputs": [
    {
     "name": "stderr",
     "output_type": "stream",
     "text": [
      "New https://pypi.org/project/ultralytics/8.0.202 available 😃 Update with 'pip install -U ultralytics'\n",
      "Ultralytics YOLOv8.0.171 🚀 Python-3.11.4 torch-2.0.1+cu117 CUDA:0 (NVIDIA GeForce RTX 3080 Laptop GPU, 7974MiB)\n",
      "\u001b[34m\u001b[1mengine/trainer: \u001b[0mtask=segment, mode=train, model=yolov8m-seg.pt, data=/home/pedrobolsa/Documents/Escola/Investigacao/YoloV8/train/datasets/Tomatoes-420.yolov8/data.yaml, epochs=500, patience=50, batch=8, imgsz=640, save=True, save_period=-1, cache=True, device=0, workers=2, project=None, name=None, exist_ok=False, pretrained=True, optimizer=auto, verbose=True, seed=0, deterministic=True, single_cls=False, rect=False, cos_lr=False, close_mosaic=10, resume=False, amp=True, fraction=1.0, profile=False, freeze=None, overlap_mask=False, mask_ratio=4, dropout=0.0, val=True, split=val, save_json=False, save_hybrid=False, conf=None, iou=0.7, max_det=300, half=False, dnn=False, plots=True, source=None, show=False, save_txt=False, save_conf=False, save_crop=False, show_labels=True, show_conf=True, vid_stride=1, stream_buffer=False, line_width=None, visualize=False, augment=False, agnostic_nms=False, classes=None, retina_masks=False, boxes=True, format=torchscript, keras=False, optimize=False, int8=False, dynamic=False, simplify=False, opset=None, workspace=4, nms=False, lr0=0.001, lrf=0.01, momentum=0.937, weight_decay=0.0005, warmup_epochs=3.0, warmup_momentum=0.8, warmup_bias_lr=0.0, box=7.5, cls=0.5, dfl=1.5, pose=12.0, kobj=1.0, label_smoothing=0.0, nbs=64, hsv_h=0.015, hsv_s=0.7, hsv_v=0.4, degrees=0.0, translate=0.1, scale=0.5, shear=0.0, perspective=0.0, flipud=0.0, fliplr=0.5, mosaic=1.0, mixup=0.0, copy_paste=0.0, cfg=None, tracker=botsort.yaml, save_dir=runs/segment/train6\n",
      "\n",
      "                   from  n    params  module                                       arguments                     \n",
      "  0                  -1  1      1392  ultralytics.nn.modules.conv.Conv             [3, 48, 3, 2]                 \n",
      "  1                  -1  1     41664  ultralytics.nn.modules.conv.Conv             [48, 96, 3, 2]                \n",
      "  2                  -1  2    111360  ultralytics.nn.modules.block.C2f             [96, 96, 2, True]             \n",
      "  3                  -1  1    166272  ultralytics.nn.modules.conv.Conv             [96, 192, 3, 2]               \n",
      "  4                  -1  4    813312  ultralytics.nn.modules.block.C2f             [192, 192, 4, True]           \n",
      "  5                  -1  1    664320  ultralytics.nn.modules.conv.Conv             [192, 384, 3, 2]              \n",
      "  6                  -1  4   3248640  ultralytics.nn.modules.block.C2f             [384, 384, 4, True]           \n",
      "  7                  -1  1   1991808  ultralytics.nn.modules.conv.Conv             [384, 576, 3, 2]              \n",
      "  8                  -1  2   3985920  ultralytics.nn.modules.block.C2f             [576, 576, 2, True]           \n",
      "  9                  -1  1    831168  ultralytics.nn.modules.block.SPPF            [576, 576, 5]                 \n",
      " 10                  -1  1         0  torch.nn.modules.upsampling.Upsample         [None, 2, 'nearest']          \n",
      " 11             [-1, 6]  1         0  ultralytics.nn.modules.conv.Concat           [1]                           \n",
      " 12                  -1  2   1993728  ultralytics.nn.modules.block.C2f             [960, 384, 2]                 \n",
      " 13                  -1  1         0  torch.nn.modules.upsampling.Upsample         [None, 2, 'nearest']          \n",
      " 14             [-1, 4]  1         0  ultralytics.nn.modules.conv.Concat           [1]                           \n",
      " 15                  -1  2    517632  ultralytics.nn.modules.block.C2f             [576, 192, 2]                 \n",
      " 16                  -1  1    332160  ultralytics.nn.modules.conv.Conv             [192, 192, 3, 2]              \n",
      " 17            [-1, 12]  1         0  ultralytics.nn.modules.conv.Concat           [1]                           \n",
      " 18                  -1  2   1846272  ultralytics.nn.modules.block.C2f             [576, 384, 2]                 \n",
      " 19                  -1  1   1327872  ultralytics.nn.modules.conv.Conv             [384, 384, 3, 2]              \n",
      " 20             [-1, 9]  1         0  ultralytics.nn.modules.conv.Concat           [1]                           \n",
      " 21                  -1  2   4207104  ultralytics.nn.modules.block.C2f             [960, 576, 2]                 \n",
      " 22        [15, 18, 21]  1   5161340  ultralytics.nn.modules.head.Segment          [4, 32, 192, [192, 384, 576]] \n",
      "YOLOv8m-seg summary: 331 layers, 27241964 parameters, 27241948 gradients, 110.4 GFLOPs\n",
      "\n",
      "Transferred 537/537 items from pretrained weights\n",
      "WARNING ⚠️ ClearML installed but not initialized correctly, not logging this run. It seems ClearML is not configured on this machine!\n",
      "To get started with ClearML, setup your own 'clearml-server' or create a free account at https://app.clear.ml\n",
      "Setup instructions can be found here: https://clear.ml/docs\n",
      "\u001b[34m\u001b[1mTensorBoard: \u001b[0mStart with 'tensorboard --logdir runs/segment/train6', view at http://localhost:6006/\n",
      "Freezing layer 'model.22.dfl.conv.weight'\n",
      "\u001b[34m\u001b[1mAMP: \u001b[0mrunning Automatic Mixed Precision (AMP) checks with YOLOv8n...\n",
      "\u001b[34m\u001b[1mAMP: \u001b[0mchecks passed ✅\n",
      "\u001b[34m\u001b[1mtrain: \u001b[0mScanning /home/pedrobolsa/Documents/Escola/Investigacao/YoloV8/train/datasets/Tomatoes-420.yolov8/train/labels.cache... 1008 images, 0 backgrounds, 0 corrupt: 100%|██████████| 1008/1008 [00:00<?, ?it/s]\n",
      "\u001b[34m\u001b[1mtrain: \u001b[0mCaching images (1.2GB True): 100%|██████████| 1008/1008 [00:00<00:00, 1737.93it/s]\n",
      "\u001b[34m\u001b[1mval: \u001b[0mScanning /home/pedrobolsa/Documents/Escola/Investigacao/YoloV8/train/datasets/Tomatoes-420.yolov8/valid/labels.cache... 42 images, 0 backgrounds, 0 corrupt: 100%|██████████| 42/42 [00:00<?, ?it/s]\n",
      "\u001b[34m\u001b[1mval: \u001b[0mCaching images (0.0GB True): 100%|██████████| 42/42 [00:00<00:00, 1213.06it/s]\n",
      "Plotting labels to runs/segment/train6/labels.jpg... \n",
      "\u001b[34m\u001b[1moptimizer:\u001b[0m AdamW(lr=0.00125, momentum=0.9) with parameter groups 86 weight(decay=0.0), 97 weight(decay=0.0005), 96 bias(decay=0.0)\n",
      "Image sizes 640 train, 640 val\n",
      "Using 2 dataloader workers\n",
      "Logging results to \u001b[1mruns/segment/train6\u001b[0m\n",
      "Starting training for 500 epochs...\n",
      "\n",
      "      Epoch    GPU_mem   box_loss   seg_loss   cls_loss   dfl_loss  Instances       Size\n",
      "      1/500      5.83G     0.6107     0.9214      0.456     0.8663        287        640: 100%|██████████| 126/126 [00:48<00:00,  2.59it/s]\n",
      "                 Class     Images  Instances      Box(P          R      mAP50  mAP50-95)     Mask(P          R      mAP50  mAP50-95): 100%|██████████| 3/3 [00:00<00:00,  4.01it/s]\n",
      "                   all         42        704      0.695      0.757      0.781      0.653      0.697      0.759      0.782      0.597\n",
      "\n",
      "      Epoch    GPU_mem   box_loss   seg_loss   cls_loss   dfl_loss  Instances       Size\n",
      "      2/500      5.78G     0.6277     0.9505     0.4664     0.8633        171        640: 100%|██████████| 126/126 [00:49<00:00,  2.53it/s]\n",
      "                 Class     Images  Instances      Box(P          R      mAP50  mAP50-95)     Mask(P          R      mAP50  mAP50-95): 100%|██████████| 3/3 [00:00<00:00,  3.81it/s]\n",
      "                   all         42        704      0.642      0.794      0.768      0.625      0.644      0.795      0.768      0.555\n",
      "\n",
      "      Epoch    GPU_mem   box_loss   seg_loss   cls_loss   dfl_loss  Instances       Size\n",
      "      3/500       5.8G     0.6367     0.9678     0.4968     0.8662        156        640: 100%|██████████| 126/126 [00:48<00:00,  2.61it/s]\n",
      "                 Class     Images  Instances      Box(P          R      mAP50  mAP50-95)     Mask(P          R      mAP50  mAP50-95): 100%|██████████| 3/3 [00:00<00:00,  3.57it/s]\n",
      "                   all         42        704      0.862      0.624      0.786      0.636      0.861      0.625      0.776      0.562\n",
      "\n",
      "      Epoch    GPU_mem   box_loss   seg_loss   cls_loss   dfl_loss  Instances       Size\n",
      "      4/500      5.71G     0.6499     0.9875      0.498     0.8691         88        640: 100%|██████████| 126/126 [00:48<00:00,  2.62it/s]\n",
      "                 Class     Images  Instances      Box(P          R      mAP50  mAP50-95)     Mask(P          R      mAP50  mAP50-95): 100%|██████████| 3/3 [00:00<00:00,  3.80it/s]\n",
      "                   all         42        704      0.692      0.786      0.762      0.611      0.695      0.789      0.765      0.531\n",
      "\n",
      "      Epoch    GPU_mem   box_loss   seg_loss   cls_loss   dfl_loss  Instances       Size\n",
      "      5/500       5.7G     0.6432      0.974      0.496     0.8687        255        640: 100%|██████████| 126/126 [00:48<00:00,  2.61it/s]\n",
      "                 Class     Images  Instances      Box(P          R      mAP50  mAP50-95)     Mask(P          R      mAP50  mAP50-95): 100%|██████████| 3/3 [00:00<00:00,  3.41it/s]\n",
      "                   all         42        704      0.633       0.65      0.654      0.537      0.632      0.648       0.65      0.464\n",
      "\n",
      "      Epoch    GPU_mem   box_loss   seg_loss   cls_loss   dfl_loss  Instances       Size\n",
      "      6/500      5.66G     0.6431     0.9522     0.4946     0.8705        164        640: 100%|██████████| 126/126 [00:47<00:00,  2.64it/s]\n",
      "                 Class     Images  Instances      Box(P          R      mAP50  mAP50-95)     Mask(P          R      mAP50  mAP50-95): 100%|██████████| 3/3 [00:00<00:00,  3.32it/s]\n",
      "                   all         42        704      0.818      0.732      0.811      0.659      0.817      0.729      0.809      0.577\n",
      "\n",
      "      Epoch    GPU_mem   box_loss   seg_loss   cls_loss   dfl_loss  Instances       Size\n",
      "      7/500       5.6G     0.6335     0.9425      0.483     0.8653        187        640: 100%|██████████| 126/126 [00:46<00:00,  2.72it/s]\n",
      "                 Class     Images  Instances      Box(P          R      mAP50  mAP50-95)     Mask(P          R      mAP50  mAP50-95): 100%|██████████| 3/3 [00:00<00:00,  3.73it/s]\n",
      "                   all         42        704      0.626      0.793      0.716      0.581      0.628      0.785      0.708      0.504\n",
      "\n",
      "      Epoch    GPU_mem   box_loss   seg_loss   cls_loss   dfl_loss  Instances       Size\n",
      "      8/500      6.08G     0.6337     0.9419     0.4744     0.8668        215        640: 100%|██████████| 126/126 [00:46<00:00,  2.70it/s]\n",
      "                 Class     Images  Instances      Box(P          R      mAP50  mAP50-95)     Mask(P          R      mAP50  mAP50-95): 100%|██████████| 3/3 [00:00<00:00,  3.68it/s]\n",
      "                   all         42        704      0.693      0.735      0.744      0.592      0.696      0.738      0.744      0.524\n",
      "\n",
      "      Epoch    GPU_mem   box_loss   seg_loss   cls_loss   dfl_loss  Instances       Size\n",
      "      9/500      5.73G     0.6529     0.9696     0.4998     0.8693        118        640: 100%|██████████| 126/126 [00:46<00:00,  2.74it/s]\n",
      "                 Class     Images  Instances      Box(P          R      mAP50  mAP50-95)     Mask(P          R      mAP50  mAP50-95): 100%|██████████| 3/3 [00:00<00:00,  3.71it/s]\n",
      "                   all         42        704      0.701      0.588       0.71      0.558      0.702       0.59        0.7        0.5\n",
      "\n",
      "      Epoch    GPU_mem   box_loss   seg_loss   cls_loss   dfl_loss  Instances       Size\n",
      "     10/500      5.67G     0.6369     0.9553      0.478     0.8689        201        640: 100%|██████████| 126/126 [00:46<00:00,  2.72it/s]\n",
      "                 Class     Images  Instances      Box(P          R      mAP50  mAP50-95)     Mask(P          R      mAP50  mAP50-95): 100%|██████████| 3/3 [00:00<00:00,  3.72it/s]\n",
      "                   all         42        704        0.6      0.701      0.664      0.532      0.602      0.703      0.662      0.476\n",
      "\n",
      "      Epoch    GPU_mem   box_loss   seg_loss   cls_loss   dfl_loss  Instances       Size\n",
      "     11/500      5.79G     0.6291      0.949     0.4704     0.8677        196        640: 100%|██████████| 126/126 [00:46<00:00,  2.71it/s]\n",
      "                 Class     Images  Instances      Box(P          R      mAP50  mAP50-95)     Mask(P          R      mAP50  mAP50-95): 100%|██████████| 3/3 [00:00<00:00,  4.21it/s]\n",
      "                   all         42        704      0.719      0.741      0.779      0.616      0.717      0.741      0.779      0.578\n",
      "\n",
      "      Epoch    GPU_mem   box_loss   seg_loss   cls_loss   dfl_loss  Instances       Size\n",
      "     12/500      5.64G     0.6331     0.9409      0.467     0.8633        151        640: 100%|██████████| 126/126 [00:47<00:00,  2.67it/s]\n",
      "                 Class     Images  Instances      Box(P          R      mAP50  mAP50-95)     Mask(P          R      mAP50  mAP50-95): 100%|██████████| 3/3 [00:00<00:00,  3.86it/s]\n",
      "                   all         42        704      0.643      0.736      0.686      0.549      0.644      0.738      0.686      0.499\n",
      "\n",
      "      Epoch    GPU_mem   box_loss   seg_loss   cls_loss   dfl_loss  Instances       Size\n",
      "     13/500      5.66G     0.6283     0.9203     0.4602     0.8637        191        640: 100%|██████████| 126/126 [00:45<00:00,  2.76it/s]\n",
      "                 Class     Images  Instances      Box(P          R      mAP50  mAP50-95)     Mask(P          R      mAP50  mAP50-95): 100%|██████████| 3/3 [00:00<00:00,  3.66it/s]\n",
      "                   all         42        704      0.763      0.615      0.747      0.616      0.795      0.607       0.74      0.549\n",
      "\n",
      "      Epoch    GPU_mem   box_loss   seg_loss   cls_loss   dfl_loss  Instances       Size\n",
      "     14/500      5.77G     0.6313     0.9378     0.4572      0.866        174        640: 100%|██████████| 126/126 [00:47<00:00,  2.65it/s]\n",
      "                 Class     Images  Instances      Box(P          R      mAP50  mAP50-95)     Mask(P          R      mAP50  mAP50-95): 100%|██████████| 3/3 [00:00<00:00,  4.21it/s]\n",
      "                   all         42        704        0.6      0.861      0.726      0.583        0.6      0.861      0.725      0.532\n",
      "\n",
      "      Epoch    GPU_mem   box_loss   seg_loss   cls_loss   dfl_loss  Instances       Size\n",
      "     15/500      5.69G     0.6001     0.8912     0.4329     0.8597        199        640: 100%|██████████| 126/126 [00:46<00:00,  2.70it/s]\n",
      "                 Class     Images  Instances      Box(P          R      mAP50  mAP50-95)     Mask(P          R      mAP50  mAP50-95): 100%|██████████| 3/3 [00:00<00:00,  3.71it/s]\n",
      "                   all         42        704      0.551      0.851      0.699      0.578      0.543      0.838       0.69      0.493\n",
      "\n",
      "      Epoch    GPU_mem   box_loss   seg_loss   cls_loss   dfl_loss  Instances       Size\n",
      "     16/500      5.64G      0.614     0.8903     0.4345     0.8571        184        640: 100%|██████████| 126/126 [00:47<00:00,  2.68it/s]\n",
      "                 Class     Images  Instances      Box(P          R      mAP50  mAP50-95)     Mask(P          R      mAP50  mAP50-95): 100%|██████████| 3/3 [00:00<00:00,  3.91it/s]\n",
      "                   all         42        704      0.611       0.68       0.65      0.528      0.608      0.676      0.647      0.471\n",
      "\n",
      "      Epoch    GPU_mem   box_loss   seg_loss   cls_loss   dfl_loss  Instances       Size\n",
      "     17/500      5.94G     0.6067     0.8964     0.4442     0.8607        173        640: 100%|██████████| 126/126 [00:46<00:00,  2.71it/s]\n",
      "                 Class     Images  Instances      Box(P          R      mAP50  mAP50-95)     Mask(P          R      mAP50  mAP50-95): 100%|██████████| 3/3 [00:00<00:00,  4.00it/s]\n",
      "                   all         42        704      0.624      0.755      0.668      0.531      0.618      0.746      0.662      0.468\n",
      "\n",
      "      Epoch    GPU_mem   box_loss   seg_loss   cls_loss   dfl_loss  Instances       Size\n",
      "     18/500      5.58G     0.6121     0.9013     0.4349      0.861        125        640: 100%|██████████| 126/126 [00:45<00:00,  2.77it/s]\n",
      "                 Class     Images  Instances      Box(P          R      mAP50  mAP50-95)     Mask(P          R      mAP50  mAP50-95): 100%|██████████| 3/3 [00:00<00:00,  4.00it/s]\n",
      "                   all         42        704      0.614      0.771      0.706      0.577      0.611      0.772      0.706      0.503\n",
      "\n",
      "      Epoch    GPU_mem   box_loss   seg_loss   cls_loss   dfl_loss  Instances       Size\n",
      "     19/500      5.66G     0.6076     0.8778     0.4338     0.8593        176        640: 100%|██████████| 126/126 [00:47<00:00,  2.67it/s]\n",
      "                 Class     Images  Instances      Box(P          R      mAP50  mAP50-95)     Mask(P          R      mAP50  mAP50-95): 100%|██████████| 3/3 [00:00<00:00,  4.39it/s]\n",
      "                   all         42        704      0.672      0.717      0.723      0.587      0.676      0.713      0.726      0.519\n",
      "\n",
      "      Epoch    GPU_mem   box_loss   seg_loss   cls_loss   dfl_loss  Instances       Size\n",
      "     20/500       5.8G     0.6016     0.8905     0.4339     0.8565        250        640: 100%|██████████| 126/126 [00:46<00:00,  2.70it/s]\n",
      "                 Class     Images  Instances      Box(P          R      mAP50  mAP50-95)     Mask(P          R      mAP50  mAP50-95): 100%|██████████| 3/3 [00:00<00:00,  3.39it/s]\n",
      "                   all         42        704       0.63      0.718      0.686      0.566      0.632       0.72      0.686      0.506\n",
      "\n",
      "      Epoch    GPU_mem   box_loss   seg_loss   cls_loss   dfl_loss  Instances       Size\n",
      "     21/500      5.62G     0.6041      0.889     0.4343     0.8561        181        640: 100%|██████████| 126/126 [00:47<00:00,  2.66it/s]\n",
      "                 Class     Images  Instances      Box(P          R      mAP50  mAP50-95)     Mask(P          R      mAP50  mAP50-95): 100%|██████████| 3/3 [00:00<00:00,  3.65it/s]\n",
      "                   all         42        704      0.782      0.688       0.77      0.636      0.782      0.691      0.769      0.555\n",
      "\n",
      "      Epoch    GPU_mem   box_loss   seg_loss   cls_loss   dfl_loss  Instances       Size\n",
      "     22/500      5.89G     0.5996     0.8691      0.427     0.8566        139        640: 100%|██████████| 126/126 [00:46<00:00,  2.72it/s]\n",
      "                 Class     Images  Instances      Box(P          R      mAP50  mAP50-95)     Mask(P          R      mAP50  mAP50-95): 100%|██████████| 3/3 [00:00<00:00,  3.50it/s]\n",
      "                   all         42        704      0.542      0.678      0.626      0.497      0.539      0.675      0.619      0.439\n",
      "\n",
      "      Epoch    GPU_mem   box_loss   seg_loss   cls_loss   dfl_loss  Instances       Size\n",
      "     23/500      5.75G     0.5935     0.8598     0.4246     0.8524        162        640: 100%|██████████| 126/126 [00:47<00:00,  2.66it/s]\n",
      "                 Class     Images  Instances      Box(P          R      mAP50  mAP50-95)     Mask(P          R      mAP50  mAP50-95): 100%|██████████| 3/3 [00:01<00:00,  2.93it/s]\n",
      "                   all         42        704      0.613      0.749      0.697      0.588      0.604      0.741      0.697      0.517\n",
      "\n",
      "      Epoch    GPU_mem   box_loss   seg_loss   cls_loss   dfl_loss  Instances       Size\n",
      "     24/500       5.7G     0.5832     0.8473     0.4173      0.854        136        640: 100%|██████████| 126/126 [00:46<00:00,  2.69it/s]\n",
      "                 Class     Images  Instances      Box(P          R      mAP50  mAP50-95)     Mask(P          R      mAP50  mAP50-95): 100%|██████████| 3/3 [00:00<00:00,  3.88it/s]\n",
      "                   all         42        704      0.649       0.74      0.684      0.586       0.65      0.741      0.681      0.516\n",
      "\n",
      "      Epoch    GPU_mem   box_loss   seg_loss   cls_loss   dfl_loss  Instances       Size\n",
      "     25/500      5.67G     0.5961      0.861     0.4232     0.8545        139        640: 100%|██████████| 126/126 [00:46<00:00,  2.72it/s]\n",
      "                 Class     Images  Instances      Box(P          R      mAP50  mAP50-95)     Mask(P          R      mAP50  mAP50-95): 100%|██████████| 3/3 [00:00<00:00,  3.45it/s]\n",
      "                   all         42        704      0.675      0.816      0.747       0.62       0.67      0.807      0.743      0.529\n",
      "\n",
      "      Epoch    GPU_mem   box_loss   seg_loss   cls_loss   dfl_loss  Instances       Size\n",
      "     26/500      5.83G     0.5795     0.8442     0.4074     0.8506        117        640: 100%|██████████| 126/126 [00:46<00:00,  2.68it/s]\n",
      "                 Class     Images  Instances      Box(P          R      mAP50  mAP50-95)     Mask(P          R      mAP50  mAP50-95): 100%|██████████| 3/3 [00:00<00:00,  3.71it/s]\n",
      "                   all         42        704       0.58      0.688      0.669      0.552      0.582       0.69       0.67      0.496\n",
      "\n",
      "      Epoch    GPU_mem   box_loss   seg_loss   cls_loss   dfl_loss  Instances       Size\n",
      "     27/500      5.62G     0.5789     0.8473      0.411     0.8508        120        640: 100%|██████████| 126/126 [00:46<00:00,  2.71it/s]\n",
      "                 Class     Images  Instances      Box(P          R      mAP50  mAP50-95)     Mask(P          R      mAP50  mAP50-95): 100%|██████████| 3/3 [00:00<00:00,  3.95it/s]\n",
      "                   all         42        704      0.678      0.823       0.78      0.666      0.676      0.817      0.769      0.578\n",
      "\n",
      "      Epoch    GPU_mem   box_loss   seg_loss   cls_loss   dfl_loss  Instances       Size\n",
      "     28/500      5.57G     0.5796     0.8517     0.4125     0.8491        162        640: 100%|██████████| 126/126 [00:46<00:00,  2.72it/s]\n",
      "                 Class     Images  Instances      Box(P          R      mAP50  mAP50-95)     Mask(P          R      mAP50  mAP50-95): 100%|██████████| 3/3 [00:00<00:00,  3.51it/s]\n",
      "                   all         42        704      0.668       0.72      0.665      0.549       0.67      0.723      0.663      0.496\n",
      "\n",
      "      Epoch    GPU_mem   box_loss   seg_loss   cls_loss   dfl_loss  Instances       Size\n",
      "     29/500       5.6G     0.5851      0.853     0.4152     0.8518        233        640: 100%|██████████| 126/126 [00:46<00:00,  2.71it/s]\n",
      "                 Class     Images  Instances      Box(P          R      mAP50  mAP50-95)     Mask(P          R      mAP50  mAP50-95): 100%|██████████| 3/3 [00:00<00:00,  3.15it/s]\n",
      "                   all         42        704      0.688      0.659      0.714      0.585      0.658      0.668      0.705      0.516\n",
      "\n",
      "      Epoch    GPU_mem   box_loss   seg_loss   cls_loss   dfl_loss  Instances       Size\n",
      "     30/500      5.73G     0.5933      0.846      0.406     0.8533        236        640: 100%|██████████| 126/126 [00:47<00:00,  2.67it/s]\n",
      "                 Class     Images  Instances      Box(P          R      mAP50  mAP50-95)     Mask(P          R      mAP50  mAP50-95): 100%|██████████| 3/3 [00:00<00:00,  3.90it/s]\n",
      "                   all         42        704      0.713      0.699      0.714      0.585      0.712      0.698      0.716      0.527\n",
      "\n",
      "      Epoch    GPU_mem   box_loss   seg_loss   cls_loss   dfl_loss  Instances       Size\n",
      "     31/500      6.17G     0.5754     0.8354     0.3972     0.8501        116        640: 100%|██████████| 126/126 [00:46<00:00,  2.73it/s]\n",
      "                 Class     Images  Instances      Box(P          R      mAP50  mAP50-95)     Mask(P          R      mAP50  mAP50-95): 100%|██████████| 3/3 [00:00<00:00,  4.00it/s]\n",
      "                   all         42        704      0.772      0.785        0.8      0.644       0.76      0.778      0.787      0.563\n",
      "\n",
      "      Epoch    GPU_mem   box_loss   seg_loss   cls_loss   dfl_loss  Instances       Size\n",
      "     32/500      5.75G      0.575     0.8244     0.3907     0.8492        161        640: 100%|██████████| 126/126 [00:45<00:00,  2.74it/s]\n",
      "                 Class     Images  Instances      Box(P          R      mAP50  mAP50-95)     Mask(P          R      mAP50  mAP50-95): 100%|██████████| 3/3 [00:00<00:00,  3.59it/s]\n",
      "                   all         42        704      0.722      0.639      0.676      0.549      0.717      0.635      0.674      0.495\n",
      "\n",
      "      Epoch    GPU_mem   box_loss   seg_loss   cls_loss   dfl_loss  Instances       Size\n",
      "     33/500      5.63G      0.573     0.8331     0.3966     0.8473        190        640: 100%|██████████| 126/126 [00:46<00:00,  2.69it/s]\n",
      "                 Class     Images  Instances      Box(P          R      mAP50  mAP50-95)     Mask(P          R      mAP50  mAP50-95): 100%|██████████| 3/3 [00:00<00:00,  3.96it/s]\n",
      "                   all         42        704      0.728       0.74      0.746      0.618      0.732      0.742      0.743       0.55\n",
      "\n",
      "      Epoch    GPU_mem   box_loss   seg_loss   cls_loss   dfl_loss  Instances       Size\n",
      "     34/500      5.72G     0.5718      0.862     0.3952      0.849        293        640: 100%|██████████| 126/126 [00:46<00:00,  2.71it/s]\n",
      "                 Class     Images  Instances      Box(P          R      mAP50  mAP50-95)     Mask(P          R      mAP50  mAP50-95): 100%|██████████| 3/3 [00:00<00:00,  3.46it/s]\n",
      "                   all         42        704      0.679      0.757      0.683      0.568      0.676      0.753      0.676      0.488\n",
      "\n",
      "      Epoch    GPU_mem   box_loss   seg_loss   cls_loss   dfl_loss  Instances       Size\n",
      "     35/500      5.75G     0.5821     0.8805     0.4019     0.8487        178        640: 100%|██████████| 126/126 [00:47<00:00,  2.68it/s]\n",
      "                 Class     Images  Instances      Box(P          R      mAP50  mAP50-95)     Mask(P          R      mAP50  mAP50-95): 100%|██████████| 3/3 [00:00<00:00,  3.14it/s]\n",
      "                   all         42        704      0.677      0.802      0.755      0.631      0.675        0.8      0.748      0.559\n",
      "\n",
      "      Epoch    GPU_mem   box_loss   seg_loss   cls_loss   dfl_loss  Instances       Size\n",
      "     36/500      5.86G      0.576     0.8486     0.4031     0.8491        285        640: 100%|██████████| 126/126 [00:46<00:00,  2.72it/s]\n",
      "                 Class     Images  Instances      Box(P          R      mAP50  mAP50-95)     Mask(P          R      mAP50  mAP50-95): 100%|██████████| 3/3 [00:00<00:00,  3.54it/s]\n",
      "                   all         42        704      0.669      0.794      0.777      0.662      0.668      0.793      0.776      0.579\n",
      "\n",
      "      Epoch    GPU_mem   box_loss   seg_loss   cls_loss   dfl_loss  Instances       Size\n",
      "     37/500       5.6G     0.5832     0.8514     0.4041     0.8472        130        640: 100%|██████████| 126/126 [00:47<00:00,  2.65it/s]\n",
      "                 Class     Images  Instances      Box(P          R      mAP50  mAP50-95)     Mask(P          R      mAP50  mAP50-95): 100%|██████████| 3/3 [00:00<00:00,  3.21it/s]\n",
      "                   all         42        704      0.756      0.662      0.784      0.659      0.757      0.663      0.777      0.569\n",
      "\n",
      "      Epoch    GPU_mem   box_loss   seg_loss   cls_loss   dfl_loss  Instances       Size\n",
      "     38/500       5.6G     0.5788     0.8706     0.3989     0.8493        195        640: 100%|██████████| 126/126 [00:45<00:00,  2.77it/s]\n",
      "                 Class     Images  Instances      Box(P          R      mAP50  mAP50-95)     Mask(P          R      mAP50  mAP50-95): 100%|██████████| 3/3 [00:00<00:00,  3.28it/s]\n",
      "                   all         42        704      0.688      0.679       0.68      0.568      0.691      0.683      0.683      0.509\n",
      "\n",
      "      Epoch    GPU_mem   box_loss   seg_loss   cls_loss   dfl_loss  Instances       Size\n",
      "     39/500      5.78G     0.5704     0.8614     0.3947      0.849        184        640: 100%|██████████| 126/126 [00:46<00:00,  2.74it/s]\n",
      "                 Class     Images  Instances      Box(P          R      mAP50  mAP50-95)     Mask(P          R      mAP50  mAP50-95): 100%|██████████| 3/3 [00:00<00:00,  3.39it/s]\n",
      "                   all         42        704      0.772      0.687      0.773      0.655      0.774      0.689      0.775      0.571\n",
      "\n",
      "      Epoch    GPU_mem   box_loss   seg_loss   cls_loss   dfl_loss  Instances       Size\n",
      "     40/500      5.63G     0.5781     0.8373     0.3903      0.844        219        640: 100%|██████████| 126/126 [00:47<00:00,  2.67it/s]\n",
      "                 Class     Images  Instances      Box(P          R      mAP50  mAP50-95)     Mask(P          R      mAP50  mAP50-95): 100%|██████████| 3/3 [00:00<00:00,  4.06it/s]\n",
      "                   all         42        704        0.7      0.696      0.711      0.598      0.704      0.699      0.711      0.524\n",
      "\n",
      "      Epoch    GPU_mem   box_loss   seg_loss   cls_loss   dfl_loss  Instances       Size\n",
      "     41/500      5.69G     0.5673     0.8385     0.3958     0.8499         89        640: 100%|██████████| 126/126 [00:46<00:00,  2.71it/s]\n",
      "                 Class     Images  Instances      Box(P          R      mAP50  mAP50-95)     Mask(P          R      mAP50  mAP50-95): 100%|██████████| 3/3 [00:00<00:00,  3.64it/s]\n",
      "                   all         42        704      0.599      0.758      0.712      0.597      0.596      0.761      0.713      0.527\n",
      "\n",
      "      Epoch    GPU_mem   box_loss   seg_loss   cls_loss   dfl_loss  Instances       Size\n",
      "     42/500      5.53G     0.5738     0.8392     0.4022     0.8471        120        640: 100%|██████████| 126/126 [00:46<00:00,  2.71it/s]\n",
      "                 Class     Images  Instances      Box(P          R      mAP50  mAP50-95)     Mask(P          R      mAP50  mAP50-95): 100%|██████████| 3/3 [00:00<00:00,  3.83it/s]\n",
      "                   all         42        704      0.709      0.672      0.725      0.614      0.706       0.67      0.721      0.539\n",
      "\n",
      "      Epoch    GPU_mem   box_loss   seg_loss   cls_loss   dfl_loss  Instances       Size\n",
      "     43/500      5.69G     0.5667     0.8121     0.3865      0.843        280        640: 100%|██████████| 126/126 [00:47<00:00,  2.68it/s]\n",
      "                 Class     Images  Instances      Box(P          R      mAP50  mAP50-95)     Mask(P          R      mAP50  mAP50-95): 100%|██████████| 3/3 [00:00<00:00,  4.34it/s]\n",
      "                   all         42        704      0.601      0.704      0.674      0.561      0.603      0.706      0.674      0.496\n",
      "\n",
      "      Epoch    GPU_mem   box_loss   seg_loss   cls_loss   dfl_loss  Instances       Size\n",
      "     44/500      5.53G     0.5657      0.833     0.3852     0.8445        251        640: 100%|██████████| 126/126 [00:46<00:00,  2.72it/s]\n",
      "                 Class     Images  Instances      Box(P          R      mAP50  mAP50-95)     Mask(P          R      mAP50  mAP50-95): 100%|██████████| 3/3 [00:00<00:00,  3.65it/s]\n",
      "                   all         42        704      0.732      0.601      0.688      0.558      0.733        0.6      0.692      0.503\n",
      "\n",
      "      Epoch    GPU_mem   box_loss   seg_loss   cls_loss   dfl_loss  Instances       Size\n",
      "     45/500      5.64G     0.5644     0.8355     0.3891     0.8478        197        640: 100%|██████████| 126/126 [00:46<00:00,  2.73it/s]\n",
      "                 Class     Images  Instances      Box(P          R      mAP50  mAP50-95)     Mask(P          R      mAP50  mAP50-95): 100%|██████████| 3/3 [00:00<00:00,  3.46it/s]\n",
      "                   all         42        704       0.66      0.764      0.707      0.591      0.656       0.76      0.701      0.515\n",
      "\n",
      "      Epoch    GPU_mem   box_loss   seg_loss   cls_loss   dfl_loss  Instances       Size\n",
      "     46/500      5.75G     0.5581     0.8373     0.3888     0.8502        178        640: 100%|██████████| 126/126 [00:45<00:00,  2.77it/s]\n",
      "                 Class     Images  Instances      Box(P          R      mAP50  mAP50-95)     Mask(P          R      mAP50  mAP50-95): 100%|██████████| 3/3 [00:00<00:00,  3.80it/s]\n",
      "                   all         42        704      0.639      0.793        0.7      0.594      0.639      0.792      0.701       0.52\n",
      "\n",
      "      Epoch    GPU_mem   box_loss   seg_loss   cls_loss   dfl_loss  Instances       Size\n",
      "     47/500       5.6G      0.567     0.8216     0.3871     0.8452        172        640: 100%|██████████| 126/126 [00:45<00:00,  2.76it/s]\n",
      "                 Class     Images  Instances      Box(P          R      mAP50  mAP50-95)     Mask(P          R      mAP50  mAP50-95): 100%|██████████| 3/3 [00:00<00:00,  3.78it/s]\n",
      "                   all         42        704      0.609      0.747      0.662       0.54      0.609      0.746      0.662      0.484\n",
      "\n",
      "      Epoch    GPU_mem   box_loss   seg_loss   cls_loss   dfl_loss  Instances       Size\n",
      "     48/500      5.67G     0.5673     0.8263     0.3855     0.8469        139        640: 100%|██████████| 126/126 [00:46<00:00,  2.72it/s]\n",
      "                 Class     Images  Instances      Box(P          R      mAP50  mAP50-95)     Mask(P          R      mAP50  mAP50-95): 100%|██████████| 3/3 [00:00<00:00,  3.05it/s]\n",
      "                   all         42        704      0.657      0.711       0.67      0.566       0.66      0.713      0.674      0.492\n",
      "\n",
      "      Epoch    GPU_mem   box_loss   seg_loss   cls_loss   dfl_loss  Instances       Size\n",
      "     49/500      5.74G     0.5626     0.8318     0.3802      0.841        169        640: 100%|██████████| 126/126 [00:47<00:00,  2.68it/s]\n",
      "                 Class     Images  Instances      Box(P          R      mAP50  mAP50-95)     Mask(P          R      mAP50  mAP50-95): 100%|██████████| 3/3 [00:00<00:00,  3.72it/s]\n",
      "                   all         42        704      0.681      0.802      0.776      0.661      0.679      0.801      0.775      0.576\n",
      "\n",
      "      Epoch    GPU_mem   box_loss   seg_loss   cls_loss   dfl_loss  Instances       Size\n",
      "     50/500      5.66G     0.5617     0.8275     0.3759     0.8434        158        640: 100%|██████████| 126/126 [00:45<00:00,  2.75it/s]\n",
      "                 Class     Images  Instances      Box(P          R      mAP50  mAP50-95)     Mask(P          R      mAP50  mAP50-95): 100%|██████████| 3/3 [00:00<00:00,  4.08it/s]\n",
      "                   all         42        704      0.698      0.663      0.728      0.617      0.702      0.668       0.73      0.551\n",
      "\n",
      "      Epoch    GPU_mem   box_loss   seg_loss   cls_loss   dfl_loss  Instances       Size\n",
      "     51/500      5.81G     0.5629      0.816     0.3796     0.8414        232        640: 100%|██████████| 126/126 [00:46<00:00,  2.72it/s]\n",
      "                 Class     Images  Instances      Box(P          R      mAP50  mAP50-95)     Mask(P          R      mAP50  mAP50-95): 100%|██████████| 3/3 [00:00<00:00,  3.37it/s]\n",
      "                   all         42        704      0.697      0.681      0.717      0.599      0.699      0.682      0.713      0.541\n",
      "Stopping training early as no improvement observed in last 50 epochs. Best results observed at epoch 1, best model saved as best.pt.\n",
      "To update EarlyStopping(patience=50) pass a new patience value, i.e. `patience=300` or use `patience=0` to disable EarlyStopping.\n",
      "\n",
      "51 epochs completed in 0.684 hours.\n",
      "Optimizer stripped from runs/segment/train6/weights/last.pt, 54.8MB\n",
      "Optimizer stripped from runs/segment/train6/weights/best.pt, 54.8MB\n",
      "\n",
      "Validating runs/segment/train6/weights/best.pt...\n",
      "Ultralytics YOLOv8.0.171 🚀 Python-3.11.4 torch-2.0.1+cu117 CUDA:0 (NVIDIA GeForce RTX 3080 Laptop GPU, 7974MiB)\n",
      "YOLOv8m-seg summary (fused): 245 layers, 27224700 parameters, 0 gradients, 110.0 GFLOPs\n",
      "                 Class     Images  Instances      Box(P          R      mAP50  mAP50-95)     Mask(P          R      mAP50  mAP50-95): 100%|██████████| 3/3 [00:00<00:00,  5.42it/s]\n",
      "                   all         42        704        0.7      0.769      0.781      0.651      0.704      0.771      0.782      0.596\n",
      "      Early-Red-Tomato         42         24      0.386       0.75      0.622      0.517       0.39       0.75      0.622      0.488\n",
      "          Green-Tomato         42        526      0.827      0.837      0.894      0.716      0.836      0.846      0.901      0.638\n",
      "     Late-Green-Tomato         42          4      0.692       0.75      0.731      0.666      0.694       0.75      0.731      0.642\n",
      "            Red-Tomato         42        150      0.895      0.739      0.875      0.707      0.895      0.737      0.874      0.618\n",
      "Speed: 0.1ms preprocess, 9.4ms inference, 0.0ms loss, 0.6ms postprocess per image\n"
     ]
    },
    {
     "data": {
      "text/plain": [
       "ultralytics.utils.metrics.SegmentMetrics object with attributes:\n",
       "\n",
       "ap_class_index: array([0, 1, 2, 3])\n",
       "box: ultralytics.utils.metrics.Metric object\n",
       "confusion_matrix: <ultralytics.utils.metrics.ConfusionMatrix object at 0x7f846d68a610>\n",
       "fitness: 1.2793478899519146\n",
       "keys: ['metrics/precision(B)', 'metrics/recall(B)', 'metrics/mAP50(B)', 'metrics/mAP50-95(B)', 'metrics/precision(M)', 'metrics/recall(M)', 'metrics/mAP50(M)', 'metrics/mAP50-95(M)']\n",
       "maps: array([     1.0049,      1.3533,      1.3087,      1.3246])\n",
       "names: {0: 'Early-Red-Tomato', 1: 'Green-Tomato', 2: 'Late-Green-Tomato', 3: 'Red-Tomato'}\n",
       "plot: False\n",
       "results_dict: {'metrics/precision(B)': 0.6998701570673909, 'metrics/recall(B)': 0.7688593758524049, 'metrics/mAP50(B)': 0.7806042674891374, 'metrics/mAP50-95(B)': 0.6513978817427676, 'metrics/precision(M)': 0.7037004456639506, 'metrics/recall(M)': 0.7708087079474912, 'metrics/mAP50(M)': 0.7820001825112046, 'metrics/mAP50-95(M)': 0.5964770570926551, 'fitness': 1.2793478899519146}\n",
       "save_dir: PosixPath('runs/segment/train6')\n",
       "seg: ultralytics.utils.metrics.Metric object\n",
       "speed: {'preprocess': 0.13716447921026323, 'inference': 9.385631197974794, 'loss': 0.0005960464477539062, 'postprocess': 0.6272168386550178}"
      ]
     },
     "execution_count": 7,
     "metadata": {},
     "output_type": "execute_result"
    }
   ],
   "source": [
    "model.train(data='/home/pedrobolsa/Documents/Escola/Investigacao/YoloV8/train/datasets/Tomatoes-420.yolov8/data.yaml', epochs=500, imgsz=640, batch=8, cache=True, workers=2, lr0=0.001, overlap_mask=False, device=0)"
   ]
  },
  {
   "cell_type": "code",
   "execution_count": 2,
   "metadata": {},
   "outputs": [
    {
     "name": "stdout",
     "output_type": "stream",
     "text": [
      "2023-09-15 17:56:10.095019: I tensorflow/core/util/port.cc:110] oneDNN custom operations are on. You may see slightly different numerical results due to floating-point round-off errors from different computation orders. To turn them off, set the environment variable `TF_ENABLE_ONEDNN_OPTS=0`.\n",
      "2023-09-15 17:56:10.118887: I tensorflow/core/platform/cpu_feature_guard.cc:182] This TensorFlow binary is optimized to use available CPU instructions in performance-critical operations.\n",
      "To enable the following instructions: AVX2 AVX512F AVX512_VNNI FMA, in other operations, rebuild TensorFlow with the appropriate compiler flags.\n",
      "\n",
      "NOTE: Using experimental fast data loading logic. To disable, pass\n",
      "    \"--load_fast=false\" and report issues on GitHub. More details:\n",
      "    https://github.com/tensorflow/tensorboard/issues/4784\n",
      "\n",
      "I0915 17:56:11.686031 139645752960704 plugin.py:429] Monitor runs begin\n",
      "Serving TensorBoard on localhost; to expose to the network, use a proxy or pass --bind_all\n",
      "TensorBoard 2.12.3 at http://localhost:6006/ (Press CTRL+C to quit)\n",
      "^C\n"
     ]
    }
   ],
   "source": [
    "!tensorboard --logdir runs/segment/train5"
   ]
  },
  {
   "cell_type": "code",
   "execution_count": 8,
   "metadata": {},
   "outputs": [
    {
     "name": "stderr",
     "output_type": "stream",
     "text": [
      "Ultralytics YOLOv8.0.171 🚀 Python-3.11.4 torch-2.0.1+cu117 CUDA:0 (NVIDIA GeForce RTX 3080 Laptop GPU, 7974MiB)\n",
      "YOLOv8m-seg summary (fused): 245 layers, 27224700 parameters, 0 gradients, 110.0 GFLOPs\n",
      "\u001b[34m\u001b[1mval: \u001b[0mScanning /home/pedrobolsa/Documents/Escola/Investigacao/YoloV8/train/datasets/Tomatoes-420.yolov8/valid/labels.cache... 42 images, 0 backgrounds, 0 corrupt: 100%|██████████| 42/42 [00:00<?, ?it/s]\n",
      "\u001b[34m\u001b[1mval: \u001b[0mCaching images (0.0GB True): 100%|██████████| 42/42 [00:00<00:00, 1765.56it/s]\n",
      "                 Class     Images  Instances      Box(P          R      mAP50  mAP50-95)     Mask(P          R      mAP50  mAP50-95): 100%|██████████| 6/6 [00:01<00:00,  3.46it/s]\n",
      "                   all         42        704      0.697      0.769       0.78      0.653      0.698       0.77       0.78      0.586\n",
      "      Early-Red-Tomato         42         24      0.377       0.75      0.621      0.522      0.377       0.75      0.621      0.458\n",
      "          Green-Tomato         42        526      0.826      0.837      0.893      0.716       0.83       0.84      0.895       0.63\n",
      "     Late-Green-Tomato         42          4      0.691       0.75      0.731      0.666      0.691       0.75      0.731      0.642\n",
      "            Red-Tomato         42        150      0.895       0.74      0.876      0.709      0.895       0.74      0.873      0.612\n",
      "Speed: 1.6ms preprocess, 19.0ms inference, 0.0ms loss, 1.2ms postprocess per image\n",
      "Results saved to \u001b[1mruns/segment/val\u001b[0m\n"
     ]
    }
   ],
   "source": [
    "metrics = model.val()"
   ]
  }
 ],
 "metadata": {
  "kernelspec": {
   "display_name": "yolov8",
   "language": "python",
   "name": "python3"
  },
  "language_info": {
   "codemirror_mode": {
    "name": "ipython",
    "version": 3
   },
   "file_extension": ".py",
   "mimetype": "text/x-python",
   "name": "python",
   "nbconvert_exporter": "python",
   "pygments_lexer": "ipython3",
   "version": "3.11.4"
  },
  "orig_nbformat": 4
 },
 "nbformat": 4,
 "nbformat_minor": 2
}
